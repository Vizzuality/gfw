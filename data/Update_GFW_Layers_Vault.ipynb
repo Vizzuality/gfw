{
 "cells": [
  {
   "cell_type": "markdown",
   "metadata": {},
   "source": [
    "# Create Layer Config Backup\n",
    "\n",
    "This notebook outlines how to run a process to create a remote backup of gfw layers.\n",
    "\n",
    "Rough process:\n",
    "\n",
    "- Run this notebook from the `gfw/data` folder\n",
    "- Wait...\n",
    "- Check `_metadata.json` files in the `production` and `staging` folders for changes\n",
    "- If everything looks good, make a PR"
   ]
  },
  {
   "cell_type": "markdown",
   "metadata": {},
   "source": [
    "First, install the latest version of LMIPy"
   ]
  },
  {
   "cell_type": "code",
   "execution_count": 1,
   "metadata": {
    "colab": {
     "base_uri": "https://localhost:8080/",
     "height": 819
    },
    "colab_type": "code",
    "id": "Ar8773SCSXJG",
    "outputId": "f2fdde1e-33cc-41c1-997b-095456301bb2"
   },
   "outputs": [
    {
     "name": "stdout",
     "output_type": "stream",
     "text": [
      "LMI ready!\n"
     ]
    }
   ],
   "source": [
    "!pip install LMIPy\n",
    "\n",
    "from IPython.display import clear_output\n",
    "clear_output()\n",
    "\n",
    "print('LMI ready!')"
   ]
  },
  {
   "cell_type": "markdown",
   "metadata": {},
   "source": [
    "Next, import relevent modules"
   ]
  },
  {
   "cell_type": "code",
   "execution_count": 23,
   "metadata": {
    "colab": {},
    "colab_type": "code",
    "id": "b4EuD29XSenY"
   },
   "outputs": [],
   "source": [
    "import LMIPy as lmi\n",
    "import os\n",
    "import json\n",
    "from pprint import pprint\n",
    "from datetime import datetime\n",
    "import shutil"
   ]
  },
  {
   "cell_type": "markdown",
   "metadata": {
    "colab_type": "text",
    "id": "a-hIn6Rvaj95"
   },
   "source": [
    "First, pull the gfw repo and check that the following path correctly finds the `data/layers` folder, inside which, you should find a `production` and `staging` folder."
   ]
  },
  {
   "cell_type": "code",
   "execution_count": 3,
   "metadata": {
    "colab": {},
    "colab_type": "code",
    "id": "QPqD_2_HUoAD"
   },
   "outputs": [],
   "source": [
    "envs = ['staging', 'production']"
   ]
  },
  {
   "cell_type": "code",
   "execution_count": 4,
   "metadata": {
    "colab": {
     "base_uri": "https://localhost:8080/",
     "height": 34
    },
    "colab_type": "code",
    "id": "Knr1BGlKSvig",
    "outputId": "39bebc0a-74ee-45ac-fdf6-7295612db84c"
   },
   "outputs": [],
   "source": [
    "path = './backup/configs'"
   ]
  },
  {
   "cell_type": "code",
   "execution_count": 27,
   "metadata": {},
   "outputs": [
    {
     "data": {
      "text/plain": [
       "'/Users/vizzuality/Workspace/gfw/data/layers/archived/archive_2019-06-21@09h-31m-18s.zip'"
      ]
     },
     "execution_count": 27,
     "metadata": {},
     "output_type": "execute_result"
    }
   ],
   "source": [
    "# Create directory and archive previous datasets\n",
    "with open(path + '/metadata.json') as f:\n",
    "    date = json.load(f)[0]['updatedAt']\n",
    "    \n",
    "shutil.make_archive(f'./backup/archived/archive_{date}', 'zip', path)"
   ]
  },
  {
   "cell_type": "code",
   "execution_count": 28,
   "metadata": {
    "colab": {
     "base_uri": "https://localhost:8080/",
     "height": 164
    },
    "colab_type": "code",
    "id": "AXicSZaGSykM",
    "outputId": "d2fd4d38-3017-4ad2-8270-9e4eaeffed42"
   },
   "outputs": [
    {
     "name": "stdout",
     "output_type": "stream",
     "text": [
      "Good to go!\n"
     ]
    }
   ],
   "source": [
    "# Check correct folders are found\n",
    "\n",
    "if not all([folder in os.listdir(path) for folder in envs]):\n",
    "    print(f'Boo! Incorrect path: {path}')\n",
    "else:\n",
    "    print('Good to go!')"
   ]
  },
  {
   "cell_type": "markdown",
   "metadata": {},
   "source": [
    "Run the following to save, build `.json` files and log changes."
   ]
  },
  {
   "cell_type": "code",
   "execution_count": 29,
   "metadata": {},
   "outputs": [
    {
     "name": "stderr",
     "output_type": "stream",
     "text": [
      "  0%|          | 0/15 [00:00<?, ?it/s]"
     ]
    },
    {
     "name": "stdout",
     "output_type": "stream",
     "text": [
      "Saving to path: ./layers/staging\n"
     ]
    },
    {
     "name": "stderr",
     "output_type": "stream",
     "text": [
      "100%|██████████| 15/15 [00:04<00:00,  3.33it/s]\n",
      "  0%|          | 0/298 [00:00<?, ?it/s]"
     ]
    },
    {
     "name": "stdout",
     "output_type": "stream",
     "text": [
      "Saving to path: ./layers/production\n"
     ]
    },
    {
     "name": "stderr",
     "output_type": "stream",
     "text": [
      "100%|██████████| 298/298 [01:22<00:00,  3.63it/s]"
     ]
    },
    {
     "name": "stdout",
     "output_type": "stream",
     "text": [
      "Done!\n",
      "CPU times: user 6.31 s, sys: 564 ms, total: 6.87 s\n",
      "Wall time: 1min 29s\n"
     ]
    },
    {
     "name": "stderr",
     "output_type": "stream",
     "text": [
      "\n"
     ]
    }
   ],
   "source": [
    "%%time\n",
    "for env in envs:\n",
    "    \n",
    "    # Get all old ids\n",
    "    old_ids = [file.split('.json')[0] for file in os.listdir(path + f'/{env}') if '_metadata' not in file]\n",
    "    \n",
    "    old_datasets = []\n",
    "    files = os.listdir(path + f'/{env}')\n",
    "    \n",
    "    # Extract all old datasets\n",
    "    for file in files:\n",
    "        if '_metadata' not in file:\n",
    "            with open(path + f'/{env}/{file}') as f:\n",
    "                old_datasets.append(json.load(f))\n",
    "    \n",
    "    # Now pull all current gfw datasets and save\n",
    "    col = lmi.Collection(app=['gfw'], env=env)\n",
    "    col.save(path + f'/{env}')\n",
    "    \n",
    "    # Get all new ids\n",
    "    new_ids = [file.split('.json')[0] for file in os.listdir(path + f'/{env}') if '_metadata' not in file]\n",
    "    \n",
    "    # See which are new, and which have been removed\n",
    "    added = list(set(new_ids) - set(old_ids))\n",
    "    removed = list(set(old_ids) - set(new_ids))\n",
    "    changed = []\n",
    "    \n",
    "    # COmpare old and new, logging those that have changed\n",
    "    for old_dataset in old_datasets:\n",
    "        ds_id = old_dataset['id']\n",
    "        old_ids.append(ds_id)\n",
    "        with open(path + f'/{env}/{ds_id}.json') as f:\n",
    "                new_dataset = json.load(f)\n",
    "        \n",
    "        if old_dataset != new_dataset:\n",
    "            changed.append(ds_id)\n",
    "    \n",
    "    # Create metadata json\n",
    "    with open(path + f'/{env}/_metadata.json', 'w') as f:\n",
    "        \n",
    "        meta = {\n",
    "            'updatedAt': datetime.today().strftime('%Y-%m-%d@%Hh-%Mm-%Ss'),\n",
    "            'env': env,\n",
    "            'differences': {\n",
    "                'changed': changed,\n",
    "                'added': added,\n",
    "                'removed': removed\n",
    "            }\n",
    "        }\n",
    "        \n",
    "        # And save it too!\n",
    "        json.dump(meta,f)\n",
    "        \n",
    "print('Done!')"
   ]
  },
  {
   "cell_type": "code",
   "execution_count": 30,
   "metadata": {},
   "outputs": [],
   "source": [
    "# Generate rich metadata\n",
    "\n",
    "metadata = []\n",
    "for env in envs:\n",
    "    with open(path + f'/{env}/_metadata.json') as f:\n",
    "        metadata.append(json.load(f))\n",
    "        \n",
    "for env in metadata:\n",
    "    for change_type, ds_list in env['differences'].items():\n",
    "        tmp = []\n",
    "        for dataset in ds_list:\n",
    "            # generate Dataset entity to get name etc...\n",
    "            tmp.append(str(lmi.Dataset(dataset)))\n",
    "        env['differences'][change_type] = tmp\n",
    "        \n",
    "with open(path + f'/metadata.json', 'w') as f:\n",
    "        \n",
    "        # And save it too!\n",
    "        json.dump(metadata,f)"
   ]
  },
  {
   "cell_type": "code",
   "execution_count": 31,
   "metadata": {},
   "outputs": [
    {
     "name": "stdout",
     "output_type": "stream",
     "text": [
      "[{'differences': {'added': ['Dataset 49d200dd-1fac-4326-a520-eea87e7a7401 '\n",
      "                            'Template Layer',\n",
      "                            'Dataset c8f95aa8-62e1-4c6c-96ca-0f0e508d4160 '\n",
      "                            'Protected areas - El Impenetrable',\n",
      "                            'Dataset 3bad1bb2-570e-404d-8694-a4eb59ed5971 '\n",
      "                            'Ituna / Itata',\n",
      "                            'Dataset dc3e9507-d247-40f9-9d78-a16363d9e4d3 Luli '\n",
      "                            '- Gran Chaco'],\n",
      "                  'changed': ['Dataset 52f774e3-7a72-4092-a859-1a8c3e412c29 '\n",
      "                              'Tree cover TEST',\n",
      "                              'Dataset 4839cc85-a4fe-41e5-96fd-51796aa694a6 '\n",
      "                              'Tree cover loss - 2018',\n",
      "                              'Dataset 42c1bd92-8f37-4b5f-b746-9e8496cb370b '\n",
      "                              'Soil Organic Carbon 2019',\n",
      "                              'Dataset 9c4bc723-6c9b-4cea-92a7-9f0f0f9e7697 '\n",
      "                              'Global Mangrove Forests (OLD)',\n",
      "                              'Dataset 284b3e2d-72e6-4f97-bf20-83f57ecbedfc '\n",
      "                              'Alliance for zero extinction sites - 2018'],\n",
      "                  'removed': []},\n",
      "  'env': 'staging',\n",
      "  'updatedAt': '2019-06-21@10h-06m-39s'},\n",
      " {'differences': {'added': ['Dataset 5bc5cd49-706f-409c-b10d-77fdfecb010f Fire '\n",
      "                            'alerts summary stats',\n",
      "                            'Dataset 9c0dfd21-53dd-40a2-9239-6cf292bd80c0 ISO '\n",
      "                            'test data 2 Thomas',\n",
      "                            'Dataset e10f4382-c7c4-4205-a484-17b9d60a68f5 Test '\n",
      "                            'Data Rows',\n",
      "                            'Dataset 3dd68cff-a4b8-4d45-8799-a5d433e75e60 NDC '\n",
      "                            'stats for countries',\n",
      "                            'Dataset 64632828-d5fa-4b94-be53-92b9e7b069a5 Test '\n",
      "                            'Data C Thomas',\n",
      "                            'Dataset 97546f05-3dce-4dd0-9abf-80fd1bff9cee Tree '\n",
      "                            'cover loss 2018 - GADMv3.6 ISO summary - '\n",
      "                            'v20190423',\n",
      "                            'Dataset bd42375f-0983-4e4f-9602-806eb2c26401 Tree '\n",
      "                            'cover loss 2018 - GADMv3.6 ADM2 summary - '\n",
      "                            'v20190423',\n",
      "                            'Dataset 01e90557-91f1-4da2-a810-a1bdd38e7824 Test '\n",
      "                            'Data A Thomas',\n",
      "                            'Dataset 0f24299d-2aaa-4afc-945c-b614028c12d1 Fire '\n",
      "                            'alerts summary stats',\n",
      "                            'Dataset b3bfa285-ab43-4562-b2e0-0ab3e92c59e3 '\n",
      "                            'Brazil Land Cover 1985-2017',\n",
      "                            'Dataset 2b247346-2a1c-4dbf-a934-dd529deed869 CMR '\n",
      "                            '9.1 test data NULL Thomas',\n",
      "                            'Dataset cdc5217b-09b7-461d-961d-dc262ba2b4be Tree '\n",
      "                            'cover loss 2018 - GADMv3.6 ADM1 summary - '\n",
      "                            'v20190423',\n",
      "                            'Dataset f56a1761-d6be-40ec-9cd3-df16d3588480 Tree '\n",
      "                            'cover loss 2018 - GADMv3.6 ADM2 summary - '\n",
      "                            'v20190429'],\n",
      "                  'changed': ['Dataset b70f070b-c9ae-4452-aa8e-2280a2604666 '\n",
      "                              'Major Dams',\n",
      "                              'Dataset 89755b9f-df05-4e22-a9bc-05217c8eafc8 '\n",
      "                              'Tree Cover Loss by Dominant Driver',\n",
      "                              'Dataset c8c7e5ae-d7bd-4e00-98e7-48677791d8f6 '\n",
      "                              'Palm oil mills',\n",
      "                              'Dataset fdc8dc1b-2728-4a79-b23f-b09485052b8d '\n",
      "                              'Dynamic Boundaries (GADM36)',\n",
      "                              'Dataset 63e88e53-0a88-416e-9532-fa06f703d435 '\n",
      "                              'Summarized GLAD alerts for admin stats',\n",
      "                              'Dataset 714339c1-c775-4303-aad4-16d975b2f023 '\n",
      "                              'Primary Forest',\n",
      "                              'Dataset 098b33df-6871-4e53-a5ff-b56a7d989f9a '\n",
      "                              'Subnational Political Boundaries',\n",
      "                              'Dataset 3d170908-043f-49db-b26b-9e9bfaaa40ce '\n",
      "                              'GFW - Climate: Insights - Glad Alerts Countries '\n",
      "                              'Data',\n",
      "                              'Dataset 461e6f3f-c03c-40b2-8a40-47d1354c93bf '\n",
      "                              'Deforestation alerts (Terra-i)',\n",
      "                              'Dataset 55eec37b-e491-447f-b0d2-b8d5b7acdaf7 '\n",
      "                              'Soil Organic Carbon 2019',\n",
      "                              'Dataset 8d59a30f-9537-44ff-a6ca-29cf5c62a607 '\n",
      "                              'Mexico Forest Cover',\n",
      "                              'Dataset a20e9c0e-8d7d-422f-90f5-3b9bca355aaf '\n",
      "                              'country page data for admin level 2',\n",
      "                              'Dataset c4d4e07c-c5b4-4e2c-9db1-5c3bec185f0e '\n",
      "                              'Oil Palm',\n",
      "                              'Dataset ba9a6f22-c89c-4d8a-b843-bca2067b09de '\n",
      "                              'Peru Permanent Production Forests',\n",
      "                              'Dataset da9b92dd-ccdc-44e1-9dfd-6e8268e36dd0 '\n",
      "                              'Oil and gas concessions',\n",
      "                              'Dataset a705fce9-601c-455c-b97b-6237da5cedba '\n",
      "                              'AGB Gains',\n",
      "                              'Dataset 86863b72-bf1e-47db-8e7e-007cf3d00291 '\n",
      "                              'Terrestrial Ecoregions',\n",
      "                              'Dataset e8b873a3-5665-4b46-ae7e-040c531a77d2 '\n",
      "                              'USA Conservation Easements',\n",
      "                              'Dataset d4550e06-9ae3-4c82-a104-459b58efbba0 '\n",
      "                              'Cambodia Economic Land Concessions',\n",
      "                              'Dataset 391ca96d-303f-4aef-be4b-9cdb4856832c '\n",
      "                              'GLAD alerts summary stats grouped by year, week '\n",
      "                              'and iso',\n",
      "                              'Dataset fee5fc38-7a62-49b8-8874-dfa31cbb1ef6 '\n",
      "                              'Global Biodiversity',\n",
      "                              'Dataset 3668bb78-d77e-4215-bc2a-07433e204823 '\n",
      "                              'Recent Satellite Imagery',\n",
      "                              'Dataset f8c77a33-d6ea-478b-9acd-2047b75b0cb8 '\n",
      "                              'RSPO oil palm concessions',\n",
      "                              'Dataset 37198e19-651f-4f79-96fb-3beb2746acd2 '\n",
      "                              'Land Rights',\n",
      "                              'Dataset 044f4af8-be72-4999-b7dd-13434fc4a394 '\n",
      "                              'Tree cover',\n",
      "                              'Dataset d7b12b17-9ed4-43ab-b8e4-efa2668c47f8 '\n",
      "                              'GFW Stories',\n",
      "                              'Dataset 7411c30d-88e4-487a-b809-3028c60ee207 '\n",
      "                              'RTRS Guides for Responsible Soy Expansion',\n",
      "                              'Dataset 93e67a77-1a31-4d04-a75d-86a4d6e35d54 '\n",
      "                              'Wood fiber concessions - depricated',\n",
      "                              'Dataset 4251b827-c6dc-4b27-9850-c6c652e18de3 '\n",
      "                              'Sabah Timber Plantations Licenses',\n",
      "                              'Dataset c7c76cc1-5178-474a-8b6a-60b895e02260 '\n",
      "                              'Tiger Conservation Landscapes',\n",
      "                              'Dataset 9bd34150-71d2-4fe0-86ae-f8911378d7e3 '\n",
      "                              'Population Density',\n",
      "                              'Dataset 05a6d516-e045-498d-bc9f-04673990860f '\n",
      "                              'Brazil Biomes',\n",
      "                              'Dataset c7a1d922-e320-4e92-8e4c-11ea33dd6e35 '\n",
      "                              'GLAD alerts summary stats grouped by year, '\n",
      "                              'week, iso, adm1 v2',\n",
      "                              'Dataset 936b191c-8119-4752-8472-c918b9638241 '\n",
      "                              'Liberia Development Exploration License',\n",
      "                              'Dataset 887a8991-b5d9-421f-9e84-e26d3ed95779 '\n",
      "                              'Sabah Logging Concessions',\n",
      "                              'Dataset e663eb09-04de-4f39-b871-35c6c2ed10b5 '\n",
      "                              'Deforestation alerts (GLAD)',\n",
      "                              'Dataset 8a0a08ec-1a92-453a-9caa-6927de719357 '\n",
      "                              'Canada Petroleum and Natural Gas',\n",
      "                              'Dataset 493ea3f3-90ea-4fc8-89d6-98f1f4ac341f '\n",
      "                              'Resource Rights',\n",
      "                              'Dataset 746089a3-0c24-402f-81b6-f8d91fab77fe '\n",
      "                              'Guatemala Forest Cover',\n",
      "                              'Dataset c876f097-ad66-4ebc-ac36-a069790ad9a7 '\n",
      "                              'Liberia Mineral Development Agreements',\n",
      "                              'Dataset bb1dced4-3ae8-4908-9f36-6514ae69713f '\n",
      "                              'Tree plantations',\n",
      "                              'Dataset ff289906-aa83-4a89-bba0-562edd8c16c6 '\n",
      "                              'Fire alerts summary stats',\n",
      "                              'Dataset 3103075e-64d4-4a52-83a3-1094cf9cf04a '\n",
      "                              'Indonesia Peat Lands',\n",
      "                              'Dataset 428db321-5ebb-4e86-a3df-32c63b6d3c83 '\n",
      "                              'GLAD alerts summary stats grouped by year, '\n",
      "                              'week, iso, adm1 and adm2',\n",
      "                              'Dataset 5da0c609-c20c-4e99-9d2c-3b1120a2983b '\n",
      "                              'PRODES Deforestation',\n",
      "                              'Dataset 9b26177b-1a28-4078-a4b9-8267ac4df669 '\n",
      "                              'Soil carbon density',\n",
      "                              'Dataset b3b8ca9d-a071-4383-b898-d7f64573b51f '\n",
      "                              'Mangrove biomass density',\n",
      "                              'Dataset 4145f642-5455-4414-b214-58ad39b83e1e '\n",
      "                              'Fire alerts (MODIS and VIIRS) summary stats '\n",
      "                              'grouped by date, polyname, iso, adm1 and adm2',\n",
      "                              'Dataset 3bc67d97-cd01-4242-b72b-315e7f320543 '\n",
      "                              'BirdLife Endemic Bird Areas',\n",
      "                              'Dataset c36c3108-2581-4b68-852a-c929fc758001 '\n",
      "                              'dis.007 Landslide Susceptibility',\n",
      "                              'Dataset 759de49c-a599-4369-821a-8d27350b0393 '\n",
      "                              'Malaysia Peat Lands',\n",
      "                              'Dataset 94e0494e-f652-4ff8-8e4f-8ec0586c4b62 '\n",
      "                              'Honduras Forest Type',\n",
      "                              'Dataset dcf70e60-ff2b-4bc9-a4cb-1f12c0e370c8 '\n",
      "                              'Indonesia Leuser Ecosystem',\n",
      "                              'Dataset 0f0ea013-20ac-4f4b-af56-c57e99f39e08 '\n",
      "                              'Fire Alerts (VIIRS)',\n",
      "                              'Dataset 795633ea-88ba-4019-b4ed-d9575886e8ee '\n",
      "                              'Liberia Mineral Exploration Licenses',\n",
      "                              'Dataset 9cd1da2d-ab39-4fd9-9487-beea1d56dbac '\n",
      "                              'Forma Activity',\n",
      "                              'Dataset 134caa0a-21f7-451d-a7fe-30db31a424aa '\n",
      "                              'Political boundaries (GADM)',\n",
      "                              'Dataset 63295b05-55a1-456c-a56c-c9ccb3a711ec '\n",
      "                              'River Basin Boundaries',\n",
      "                              'Dataset 7cc6ac21-c8ef-4dd8-a181-8967721a15a4 '\n",
      "                              'Political boundaries Admin 2 level (GADM 3.6)',\n",
      "                              'Dataset 85f82851-e16e-4126-a630-93bb63d4ef42 '\n",
      "                              'Terra I alerts summarized by admin 1 boundary '\n",
      "                              'from GADM2.8',\n",
      "                              'Dataset 3a638102-ab50-4717-a0fe-b27bd79d18c2 '\n",
      "                              'bio.001 Alliance for Zero Extinction Endangered '\n",
      "                              'Species Sites',\n",
      "                              'Dataset 916022a9-2802-4cc6-a0f2-a77f81dd0c09 '\n",
      "                              'Global Forest Watch - Home page news',\n",
      "                              'Dataset ae1e485a-5b39-43b3-9a4e-0edc38fd11a6 '\n",
      "                              'Carbon dioxide emissions from tree cover loss '\n",
      "                              'in drained peat',\n",
      "                              'Dataset 81c802aa-5feb-4fbe-9986-8f30c0597c4d '\n",
      "                              'Tree biomass density',\n",
      "                              'Dataset b67fc529-af07-4443-85a9-24b5cf6f2eae '\n",
      "                              'Mangrove biomass density',\n",
      "                              'Dataset ab35761b-ac75-4a82-a6b9-8c949a5af4da '\n",
      "                              'Canada Protected Areas',\n",
      "                              'Dataset a684a9bb-63f2-4bea-bf62-fd5e80d23d75 '\n",
      "                              '2016 Biodiversity hot spots',\n",
      "                              'Dataset f5809771-24eb-4cca-89ab-ea1697272b51 '\n",
      "                              'Sarawak Logging Concessions',\n",
      "                              'Dataset 10964a62-eff1-469a-8513-770e71f29445 '\n",
      "                              'USA Forest Ownership Type',\n",
      "                              'Dataset 897ecc76-2308-4c51-aeb3-495de0bdca79 '\n",
      "                              'Tree Cover Loss',\n",
      "                              'Dataset 9333e015-6699-41e6-b0a6-d44222cadcaf '\n",
      "                              'Cambodia Protected Areas',\n",
      "                              'Dataset 7a4d9a64-ecb1-45ec-a01e-658f1364fb2e '\n",
      "                              'Mining',\n",
      "                              'Dataset fb8987b6-7ad8-4172-b6ef-9c8f917fdafb '\n",
      "                              'Mexico Payments for Ecosystem Services',\n",
      "                              'Dataset 13e28550-3fc9-45ec-bb00-5a48a82b77e1 '\n",
      "                              'Intact Forest Landscapes',\n",
      "                              'Dataset 2d6ed2f7-4dc1-42ad-94b9-a65a5594037a '\n",
      "                              'Sarawak Licenses for Planted Forests (LPFs)',\n",
      "                              'Dataset 6556cbd3-1470-453f-8e69-d8adf4467e31 '\n",
      "                              'Logging-concessions',\n",
      "                              'Dataset 6d663b23-5ed8-4d1a-85ff-6cb04d9812d6 '\n",
      "                              'Indonesia Forest Area',\n",
      "                              'Dataset 83f8365b-f40b-4b91-87d6-829425093da1 '\n",
      "                              'Tree Plantations',\n",
      "                              'Dataset 41a26503-d708-4b95-bbde-c613fba04f44 '\n",
      "                              'Sarawak Protected Areas',\n",
      "                              'Dataset 81469de5-176c-487f-9b1a-7217d61de080 '\n",
      "                              'Mexico forest zoning by category',\n",
      "                              'Dataset a4e9c32d-d037-4c50-a893-967cad193537 '\n",
      "                              'Population Density',\n",
      "                              'Dataset aaf2d74a-4a75-441e-9b3c-73bcb590611e '\n",
      "                              'Congo Basin Logging Roads',\n",
      "                              'Dataset 9b9e56fc-270e-486d-8db5-e0a839c9a1a9 '\n",
      "                              'Fire alerts summary stats - adm1',\n",
      "                              'Dataset 1bdceabb-fed6-4d4d-9b38-0f04ef538434 '\n",
      "                              'Peru forest concessions',\n",
      "                              'Dataset 8e76424f-18a8-415c-affd-45e1158e148f '\n",
      "                              'Active clearing alerts (FORMA)',\n",
      "                              'Dataset 3f633a05-a3c9-44a5-939c-aecae35fe63e '\n",
      "                              'NDC stats for countries',\n",
      "                              'Dataset 51267795-de96-462f-9dfb-dd1d07b44057 '\n",
      "                              'Indonesia Primary Forest',\n",
      "                              'Dataset 7ce357f0-ca71-45f6-88ab-a2f13568017e '\n",
      "                              'WRI Oil Palm Suitability Standard',\n",
      "                              'Dataset 60db4603-84fd-487b-b0b8-2db9e13df0f5 '\n",
      "                              'Mongabay Stories',\n",
      "                              'Dataset 091cab6a-3a78-4015-a7b4-7a5d46ccf50b '\n",
      "                              'Tree plantations by type - 2013-2014 CLONE',\n",
      "                              'Dataset 8f96c227-b45a-43a7-9235-d08d722867ba '\n",
      "                              'Guatemala Forest Density',\n",
      "                              'Dataset acee82c1-e621-4ba6-8e37-0e7075aa73ff '\n",
      "                              'Global Forest Watch - Countries config',\n",
      "                              'Dataset b3fa1221-db2a-4826-95a1-37ac0973cc4b '\n",
      "                              'SAD Alerts',\n",
      "                              'Dataset 853ba748-f980-40d7-b0d8-d9b0fb5d748c '\n",
      "                              'Indonesia Forest Moratorium',\n",
      "                              'Dataset 70e2549c-d722-44a6-a8d7-4a385d78565e '\n",
      "                              'Tree Cover Gain',\n",
      "                              'Dataset a9cc6ec0-5c1c-4e36-9b26-b4ee0b50587b '\n",
      "                              'Carbon dioxide emissions from tree cover loss',\n",
      "                              'Dataset 4fc24a03-cb3e-4df3-a2ee-e2a8dca342b3 '\n",
      "                              'Logging concessions',\n",
      "                              'Dataset 69199c5c-31a3-46e4-9ae2-068160b90d79 '\n",
      "                              'Logging concessions',\n",
      "                              'Dataset 8f22dec5-2aea-49d6-8a7b-c494dbb8095c '\n",
      "                              'Political boundaries Admin 1 level (GADM 3.6)',\n",
      "                              'Dataset f3fc0f1e-aa26-49b6-8741-45df2eea9ac2 '\n",
      "                              'Brazil Land Cover',\n",
      "                              'Dataset bd5d7924-611e-4302-9185-8054acb0b44b '\n",
      "                              'Global Mangrove Watch',\n",
      "                              'Dataset b3d076cc-b150-4ccb-a93e-eca05d9ac2bf '\n",
      "                              'soc.064.02 Political Boundaries (Second '\n",
      "                              'Subnational Level)',\n",
      "                              'Dataset dddcba3c-f746-4787-9915-f24c141a94da '\n",
      "                              'USA Land Cover',\n",
      "                              'Dataset c2615e10-584e-4e7f-ba27-7c4f52594150 '\n",
      "                              'Peru Protected Areas',\n",
      "                              'Dataset 9c00b73f-9a6e-453c-b730-e240b56e5c88 '\n",
      "                              'Sarawak Oil Palm Concessions',\n",
      "                              'Dataset 4316b45c-e744-4f4c-9823-142eb7638c8d '\n",
      "                              'Indonesia land cover',\n",
      "                              'Dataset 3a8e0ae1-fcc5-4a50-abd1-37f158f173ec '\n",
      "                              'Mexico protected areas',\n",
      "                              'Dataset 3b12cc5f-4bf8-4857-909e-a8791125bbf1 '\n",
      "                              'Protected Areas',\n",
      "                              'Dataset b7a34457-1d8a-456e-af46-876e0b42fb96 '\n",
      "                              'Projected carbon storage from forest regrowth',\n",
      "                              'Dataset a8dc9474-ba42-4ae3-a7d3-d8df5f1e78df '\n",
      "                              'Political boundaries (GADM 3.6)',\n",
      "                              'Dataset e5aed7ff-b569-4918-887f-192d66fd95de '\n",
      "                              'Guatemala Forest Change',\n",
      "                              'Dataset fe80bbb1-90e5-4ab6-ae10-3bce6abcc0fb '\n",
      "                              'Global Mangrove Forests',\n",
      "                              'Dataset 588f2f1f-cc62-46aa-9859-befa031412ca '\n",
      "                              'Land Cover'],\n",
      "                  'removed': []},\n",
      "  'env': 'production',\n",
      "  'updatedAt': '2019-06-21@10h-08m-02s'}]\n"
     ]
    }
   ],
   "source": [
    "pprint(metadata)"
   ]
  },
  {
   "cell_type": "code",
   "execution_count": null,
   "metadata": {},
   "outputs": [],
   "source": []
  }
 ],
 "metadata": {
  "colab": {
   "name": "Update-GFW-Layers-Vault.ipynb",
   "provenance": [],
   "version": "0.3.2"
  },
  "kernelspec": {
   "display_name": "Python 3",
   "language": "python",
   "name": "python3"
  },
  "language_info": {
   "codemirror_mode": {
    "name": "ipython",
    "version": 3
   },
   "file_extension": ".py",
   "mimetype": "text/x-python",
   "name": "python",
   "nbconvert_exporter": "python",
   "pygments_lexer": "ipython3",
   "version": "3.7.3"
  }
 },
 "nbformat": 4,
 "nbformat_minor": 2
}
